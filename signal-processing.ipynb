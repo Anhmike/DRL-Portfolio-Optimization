{
 "cells": [
  {
   "cell_type": "markdown",
   "metadata": {},
   "source": [
    "# Signal Processing (LSTM Training)\n",
    "\n",
    "Now that we have the data processed properly the challenge will be to design, train and test the Long Short-Term Memory (LSTM) network to predict the classifications we have previously extracted.\n",
    "\n",
    "For reference here is the image again of the full Deep Deterministic Policy Gradient (DDPG) Reinforcement Learning (RL) architecture we are trying to build.  Please see the full [2nd report](docs/report2.pdf) for a complete description of this network.\n",
    "\n",
    "![DDPG](docs/ddpg.png \"DDGP\")\n",
    "\n",
    "As you can see there is a LSTM in both the actor and critic networks.  Before the full DDPG can be implemented we must confirm that the LSTM can provide satisfactory signals or the DDPG will just be running on noise."
   ]
  },
  {
   "cell_type": "markdown",
   "metadata": {},
   "source": [
    "## 1. Load some necessary modules"
   ]
  },
  {
   "cell_type": "code",
   "execution_count": 78,
   "metadata": {},
   "outputs": [],
   "source": [
    "from glob import glob\n",
    "import matplotlib.pyplot as plt\n",
    "import numpy as np\n",
    "import pandas as pd\n",
    "import pickle\n",
    "import seaborn as sns\n",
    "from sklearn.model_selection import train_test_split\n",
    "import torch\n",
    "from torch.utils.data import TensorDataset, DataLoader\n",
    "import yaml\n",
    "\n",
    "%matplotlib inline"
   ]
  },
  {
   "cell_type": "markdown",
   "metadata": {},
   "source": [
    "## 1. Load and encode the timeseries data \n",
    "Each data _point_ at time `t` is actually a series of `k` standardized return values from `t-k` to `t` (`x`) and an array of classifications for each `dt` in `prediction_days` (`y`).  Therefore each data point is treated as independent events and will be processed in a random order.  So our first task is to properly structure the timeseries data into indepentent events.\n",
    "\n",
    "Here is an illustration of this transformation for a single asset with two different number of time values.\n",
    "\n",
    "![embedding](docs/embedding.png \"embedding\")"
   ]
  },
  {
   "cell_type": "markdown",
   "metadata": {},
   "source": [
    "Load the previously saved data and unpack it into Numpy arrays."
   ]
  },
  {
   "cell_type": "code",
   "execution_count": 79,
   "metadata": {},
   "outputs": [],
   "source": [
    "with open('settings.yml') as f:\n",
    "    settings = yaml.safe_load(f)"
   ]
  },
  {
   "cell_type": "code",
   "execution_count": 80,
   "metadata": {},
   "outputs": [],
   "source": [
    "with open('training-data-raw.pkl', 'rb') as f:\n",
    "    data = pickle.load(f)\n",
    "dt_values = list(data['y'].keys())\n",
    "assets = data['x'][dt_values[0]].columns.tolist()\n",
    "assets.remove(settings['sp500'])\n",
    "dates = data['x'][dt_values[0]].index.tolist()"
   ]
  },
  {
   "cell_type": "markdown",
   "metadata": {},
   "source": [
    "### 1.1 Process the input data `x` and targets `y`\n",
    "The input `x` to the LSTM network has to have the dimensions [batch_size, time_embedding (k), n_features].  The batch size will be processed later but it is the number of points to feed the network in a single batch.  The number of features in this implementation will be the number of time horizons used to calculate the returns for both the asset to model and also the S&P index.    \n",
    "The output `y` is simply the number of points in the batch and the number of prediction days we will try to predict.    \n",
    "Note for both `x` and `y` there is another dimension not shown for the number of assets to model.  In this implementation the assets will be modeled independently.  Effectively we are ignoring the coupling between assets during the performance prediction.  Once we integrate this into the DRL algorithm, all of these independent signals will be feed into the DRL network.   \n",
    "The S&P signal will be stacked onto the 3rd dimension before training. \n",
    "![shape](docs/data-shape.png \"shape\")"
   ]
  },
  {
   "cell_type": "code",
   "execution_count": 125,
   "metadata": {},
   "outputs": [
    {
     "name": "stdout",
     "output_type": "stream",
     "text": [
      "(2918, 63, 3, 2)\n",
      "(2918, 63, 3, 1)\n",
      "(2918, 63, 6, 2)\n",
      "0.0\n"
     ]
    }
   ],
   "source": [
    "k = settings['embedding_days']\n",
    "n_t = len(dates) - k + 1\n",
    "\n",
    "# Process x and y\n",
    "x = np.empty((n_t, k, len(dt_values), len(assets)))\n",
    "y = np.empty((n_t, len(dt_values), len(assets)))\n",
    "for i_a, asset in enumerate(assets):\n",
    "    for i_dt, dt in enumerate(dt_values):\n",
    "        y[:, i_dt, i_a] = data['y'][dt].loc[:, asset].values[(k-1):]\n",
    "        for i_n in range(n_t):\n",
    "            x[i_n, :, i_dt, i_a] = data['x'][dt].loc[:, asset].values[i_n:(i_n+k)][::-1]\n",
    "\n",
    "# Process the asset representing the S&P 500 index\n",
    "sp500 = np.empty((n_t, k, len(dt_values), 1))\n",
    "for i_dt, dt in enumerate(dt_values):\n",
    "    for i_n in range(n_t):\n",
    "        sp500[i_n, :, i_dt, 0] = data['x'][dt].loc[:, settings['sp500']].values[i_n:(i_n+k)][::-1]\n",
    "        \n",
    "# Stack the S&P onto x\n",
    "print(x.shape)\n",
    "print(sp500.shape)\n",
    "x = np.concatenate((x, np.concatenate((sp500, sp500), axis=3)), axis=2)\n",
    "print(x.shape)\n",
    "del sp500\n",
    "print(np.max(np.abs((x[:, :, 3:, 0] - x[:, :, 3:, 1]))))"
   ]
  },
  {
   "cell_type": "markdown",
   "metadata": {},
   "source": [
    "### 1.2 Process the target values `y`"
   ]
  },
  {
   "cell_type": "code",
   "execution_count": 126,
   "metadata": {},
   "outputs": [
    {
     "name": "stdout",
     "output_type": "stream",
     "text": [
      "2 assets.\n",
      "2918 total time points.\n",
      "63 time embedding length (k).\n",
      "3 prediction horizons (n_dt).\n"
     ]
    }
   ],
   "source": [
    "print(\"{} assets.\".format(x.shape[3]))\n",
    "print(\"{} total time points.\".format(x.shape[0]))\n",
    "print(\"{} time embedding length (k).\".format(x.shape[1]))\n",
    "print(\"{} prediction horizons (n_dt).\".format(y.shape[1]))"
   ]
  },
  {
   "cell_type": "markdown",
   "metadata": {},
   "source": [
    "## 2. Split data into training, validation and testing sets\n",
    "The `test` set is not used during the training and is only used at the very end to evaluate how well the LSTM can predict unseen data.  For our purposes we defined the `test` set as data from the period from the `training_end` date defined in the settings file to the end of our processed data.\n",
    "\n",
    "The `train` set is the data actually used to traing the LSTM where as the `val` set isn't directly used to traing the LSTM but is used to evaluate the training process after each training epoch.  After each epoch we evaluate the model against the `train` and `val` set.  We will continue to train as long as both the `train` and `val` errors decay, but we must stop if the `val` error begins to rise.  A falling `train` error but rising `val` error indicates the model is starting to overfit the training data.  A good description of overfitting is contained in this [wiki page](https://en.wikipedia.org/wiki/Overfitting).\n",
    "\n",
    "We will follow the stardard practice of splitting our non-test data 9-1 between the `train` and `val` sets.  Note also that we are randomizing the data within the `train` and `val` sets to emilinate any temporal biases."
   ]
  },
  {
   "cell_type": "markdown",
   "metadata": {},
   "source": [
    "### Perform the split"
   ]
  },
  {
   "cell_type": "code",
   "execution_count": 128,
   "metadata": {},
   "outputs": [],
   "source": [
    "n_test_days = np.sum(np.array(dates) >= pd.Timestamp(settings['training_end']))\n",
    "\n",
    "# Test data is simply all the data after the 'training_end' date.\n",
    "x_test = x[-n_test_days:, :, :]\n",
    "y_test = y[-n_test_days:, :, :]\n",
    "\n",
    "# Extract the train and val data and then randomly split 9/1\n",
    "x_train, x_val, y_train, y_val = train_test_split(x[:-n_test_days, :, :, :], \n",
    "                                                  y[:-n_test_days, :, :], \n",
    "                                                  test_size=0.1)"
   ]
  },
  {
   "cell_type": "markdown",
   "metadata": {},
   "source": [
    "Data is now ready, let the real fun begin...."
   ]
  },
  {
   "cell_type": "markdown",
   "metadata": {},
   "source": [
    "## 3. Define the LSTM network\n",
    "Please see the PyTorch LSTM [documentation](https://pytorch.org/docs/stable/nn.html#lstm) for more detail.    \n",
    "\n",
    "A special thanks for this component goes to the Udacity Deep Learning [Nanodegree](https://www.udacity.com/course/deep-learning-nanodegree--nd101).  Much of this content was derived from the Nanodegree projects."
   ]
  },
  {
   "cell_type": "markdown",
   "metadata": {},
   "source": [
    "### 3.1 Check to see if running on a GPU"
   ]
  },
  {
   "cell_type": "code",
   "execution_count": 129,
   "metadata": {},
   "outputs": [
    {
     "name": "stdout",
     "output_type": "stream",
     "text": [
      "No GPU available, training on CPU; ouch, consider making n_epochs very small.\n"
     ]
    }
   ],
   "source": [
    "train_on_gpu = torch.cuda.is_available()\n",
    "device = torch.device(\"cuda\" if train_on_gpu else \"cpu\")\n",
    "if(train_on_gpu):\n",
    "    print('Training on GPU!')\n",
    "else: \n",
    "    print('No GPU available, training on CPU; ouch, consider making n_epochs very small.')"
   ]
  },
  {
   "cell_type": "markdown",
   "metadata": {},
   "source": [
    "### 3.2 Define the LSTM network"
   ]
  },
  {
   "cell_type": "code",
   "execution_count": 164,
   "metadata": {},
   "outputs": [],
   "source": [
    "import torch.nn as nn\n",
    "import torch.nn.functional as nn_f\n",
    "\n",
    "class LSTM(nn.Module):\n",
    "    \n",
    "    def __init__(self, n_features, n_output, n_layers=1, n_hidden=500, dropout=0.2):\n",
    "        \"\"\"\n",
    "        Initialize the PyTorch LSTM Module plus a linear layer to perform the regression classification.\n",
    "        \n",
    "        Args:\n",
    "            n_features (int): The number of input dimensions\n",
    "            n_output (int): The number prediction horizons\n",
    "            n_layers (int): Number of LSTM layers\n",
    "            n_hidden (int): Number of hidden nodes in the LSTM layers\n",
    "            dropout (float): dropout to add in between LSTM/GRU layers\n",
    "        \"\"\"\n",
    "        \n",
    "        super(LSTM, self).__init__()\n",
    "        \n",
    "        # Set class attributes\n",
    "        self.n_features = n_features\n",
    "        self.n_layers = n_layers\n",
    "        self.n_hidden = n_hidden\n",
    "        self.n_output = n_output\n",
    "        \n",
    "        # Define the LSTM\n",
    "        self.lstm = nn.LSTM(input_size=n_features, hidden_size=n_hidden, num_layers=n_layers, \n",
    "                            batch_first=True, dropout=dropout)\n",
    "        \n",
    "        # Linear fully-connected feed forward network\n",
    "        self.fc1 = nn.Linear(n_hidden, int((n_hidden + n_output) / 2.0))\n",
    "        self.fc2 = nn.Linear(int((n_hidden + n_output) / 2.0), n_output)\n",
    "        \n",
    "        \n",
    "    def forward(self, x, hidden):\n",
    "        \"\"\"\n",
    "        Forward propagation of the neural network\n",
    "        \n",
    "        Args:\n",
    "            x (tensor): [batch_size, k, n_feature] The input to the neural network\n",
    "            hidden (tuple of tensor): The previous hidden state\n",
    "        \n",
    "        Returns:\n",
    "            tensor:  [self.output_size] Ouput of the network\n",
    "            tuple of tensor:  (h_n, c_n) The latest hidden state\n",
    "        \"\"\"\n",
    "\n",
    "        # Read the batch size\n",
    "        batch_size = x.size(0)\n",
    "\n",
    "        # Get LSTM outpout and updated hidden state\n",
    "        out, hidden = self.lstm(x, hidden)\n",
    "    \n",
    "        # Stack up lstm outputs\n",
    "        out = out.contiguous().view(-1, self.n_hidden)\n",
    "\n",
    "        # Feed through fully-connected layer\n",
    "        out = nn_f.relu(self.fc1(out))\n",
    "        out = self.fc2(out)\n",
    "        \n",
    "        # Reshape to be batch_size first\n",
    "        out = out.view(batch_size, -1, self.n_output)\n",
    "        out = out[:, -1] # get last batch of labels\n",
    "\n",
    "        # return last sigmoid output and hidden state\n",
    "        return out, hidden\n",
    "    \n",
    "    \n",
    "    def init_hidden(self, batch_size):\n",
    "        '''\n",
    "        Initialize the hidden state of an LSTM/GRU\n",
    "        \n",
    "        Args:\n",
    "            batch_size: The batch_size of the hidden state\n",
    "        \n",
    "        Returns:\n",
    "            tuple of int:  hidden state of dims (n_layers, batch_size, n_hidden)\n",
    "        '''\n",
    "        # Initialize hidden state with zero weights, and move to GPU if available\n",
    "        \n",
    "        weight = next(self.parameters()).data\n",
    "        \n",
    "        if (train_on_gpu):\n",
    "            hidden = (weight.new(self.n_layers, batch_size, self.n_hidden).zero_().float().cuda(),\n",
    "                      weight.new(self.n_layers, batch_size, self.n_hidden).zero_().float().cuda())\n",
    "        else:\n",
    "            hidden = (weight.new(self.n_layers, batch_size, self.n_hidden).zero_().float(),\n",
    "                      weight.new(self.n_layers, batch_size, self.n_hidden).zero_().float())\n",
    "        \n",
    "        return hidden"
   ]
  },
  {
   "cell_type": "markdown",
   "metadata": {},
   "source": [
    "### 3.3 Define the forward and backpropagation steps"
   ]
  },
  {
   "cell_type": "code",
   "execution_count": 165,
   "metadata": {},
   "outputs": [],
   "source": [
    "def forward_back_prop(lstm, optimizer, criterion, inp, target, hidden, clip=5.0):\n",
    "    \"\"\"\n",
    "    Forward and backward propagation on the neural network\n",
    "    \n",
    "    Args:\n",
    "        lstm (LSTM): The LSTM object\n",
    "        optimizer: The PyTorch optimizer for the neural network\n",
    "        criterion: The PyTorch loss function\n",
    "        inp (tensor): [batch_size, k, n_feature] The input to the neural network\n",
    "        target (tensor): [batch_size, n_dt * n_output] The neural network output\n",
    "        hidden (tuple of tensor): The previous hidden state\n",
    "        clip (float):  Value to clip gradients to avoid exploding LSTM gradients\n",
    "    \n",
    "    Returns:\n",
    "        float: The loss for the last training batch item\n",
    "        tuple of tensor:  (h_n, c_n) The latest hidden state\n",
    "    \"\"\"\n",
    "    \n",
    "    if(train_on_gpu):\n",
    "        inp, target = inp.cuda(), target.cuda()\n",
    " \n",
    "    # Creating new variables for the hidden state, otherwise\n",
    "    # we'd backprop through the entire training history\n",
    "    hidden = tuple([each.data for each in hidden])\n",
    "    \n",
    "    # Zero accumulated gradients\n",
    "    lstm.zero_grad()\n",
    "    \n",
    "    # Perform forward propagations, loss calculation and back propagation\n",
    "    output, hidden = lstm(inp, hidden)\n",
    "    loss = criterion(output, target)\n",
    "    loss.backward()\n",
    "    \n",
    "    # Clip the gradients and then perform the weight optimization\n",
    "    nn.utils.clip_grad_norm_(lstm.parameters(), clip)\n",
    "    optimizer.step()\n",
    "\n",
    "    return loss.item(), hidden"
   ]
  },
  {
   "cell_type": "code",
   "execution_count": 166,
   "metadata": {},
   "outputs": [],
   "source": [
    "def train_lstm(lstm, batch_size, optimizer, criterion, n_epochs, min_v_loss=1.0):\n",
    "   \n",
    "    print(\"Training for %d epoch(s)...\" % n_epochs)\n",
    "    message = 'Epoch: {:>4} Loss: {:.3f}, V-Loss: {:.3f}, V-Error {:.3f}'\n",
    "    for epoch_i in range(1, n_epochs + 1):\n",
    "        lstm.train()\n",
    "        batch_losses = []\n",
    "\n",
    "        # initialize hidden state\n",
    "        hidden = lstm.init_hidden(batch_size)\n",
    "        \n",
    "        for batch_i, (inputs, labels) in enumerate(train_loader, 1):\n",
    "            \n",
    "            # make sure you iterate over completely full batches, only\n",
    "            n_batches = len(train_loader.dataset)//batch_size\n",
    "            if(batch_i > n_batches):\n",
    "                break\n",
    "            \n",
    "            # forward, back prop\n",
    "            loss, hidden = forward_back_prop(lstm, optimizer, criterion, inputs, labels, hidden)          \n",
    "            # record loss\n",
    "            batch_losses.append(loss)\n",
    "\n",
    "        # printing loss and validation stats\n",
    "        lstm.eval()\n",
    "        val_losses = []\n",
    "        val_errors = []\n",
    "        for batch_i, (inputs, labels) in enumerate(val_loader, 1):\n",
    "            # make sure you iterate over completely full batches, only\n",
    "            n_batches = len(val_loader.dataset)//batch_size\n",
    "            if(batch_i > n_batches):\n",
    "                break\n",
    "\n",
    "            output, hidden = lstm(inputs, hidden)\n",
    "            val_losses.append(criterion(output, labels).item())\n",
    "            val_errors.append(torch.abs(labels - output).mean().item())\n",
    "            \n",
    "        v_loss = np.average(val_losses)\n",
    "        if v_loss < min_v_loss:\n",
    "            min_v_loss = v_loss\n",
    "            torch.save(lstm.state_dict(), 'lstm_vloss_{:.3f}.pth'.format(v_loss))\n",
    "        print(message.format(epoch_i, np.average(batch_losses), v_loss, np.average(val_errors)))\n",
    "\n",
    "    return lstm"
   ]
  },
  {
   "cell_type": "markdown",
   "metadata": {},
   "source": [
    "### Let's train an asset as a test of the system"
   ]
  },
  {
   "cell_type": "markdown",
   "metadata": {},
   "source": [
    "#### First reduce the data"
   ]
  },
  {
   "cell_type": "code",
   "execution_count": 167,
   "metadata": {},
   "outputs": [
    {
     "name": "stdout",
     "output_type": "stream",
     "text": [
      "Projected 1-Day outlook is Very bad.\n",
      "Projected 7-Day outlook is Very bad.\n"
     ]
    },
    {
     "data": {
      "image/png": "[encoded data removed]",
      "text/plain": [
       "<Figure size 432x288 with 1 Axes>"
      ]
     },
     "metadata": {
      "needs_background": "light"
     },
     "output_type": "display_data"
    }
   ],
   "source": [
    "asset_number = 0\n",
    "batch_size = 200\n",
    "\n",
    "# Slice the assets from x and stack the dt and n_assets for y\n",
    "tmp_x = torch.from_numpy(x_train[:, :, :, asset_number]).float().to(device)\n",
    "tmp_y = torch.from_numpy(y_train[:, :, asset_number]).float().to(device)\n",
    "train_loader = DataLoader(TensorDataset(tmp_x, tmp_y), shuffle=True, batch_size=batch_size)\n",
    "\n",
    "# Do the same for the verification and test sets\n",
    "tmp_x = torch.from_numpy(x_val[:, :, :, asset_number]).float().to(device)\n",
    "tmp_y = torch.from_numpy(y_val[:, :, asset_number]).float().to(device)\n",
    "val_loader = DataLoader(TensorDataset(tmp_x, tmp_y), shuffle=True, batch_size=batch_size)\n",
    "\n",
    "tmp_x = torch.from_numpy(x_test[:, :, :, asset_number]).float().to(device)\n",
    "tmp_y = torch.from_numpy(y_test[:, :, asset_number]).float().to(device)\n",
    "test_loader = DataLoader(TensorDataset(tmp_x, tmp_y), shuffle=True, batch_size=batch_size)\n",
    "del tmp_x, tmp_y\n",
    "\n",
    "# Print a batch to test\n",
    "data_iter = iter(train_loader)\n",
    "sample_x, sample_y = data_iter.next()\n",
    "decoder = {0.0: 'Very bad', 0.25: 'Bad', 0.5: 'Neutral', 0.75: 'Good', 1.0: 'Very good'}\n",
    "print(\"Projected 1-Day outlook is {}.\".format(decoder[sample_y[0, 0].item()]))\n",
    "print(\"Projected 7-Day outlook is {}.\".format(decoder[sample_y[0, 1].item()]))\n",
    "plt.plot(sample_x[0, :, 0])\n",
    "plt.show()\n"
   ]
  },
  {
   "cell_type": "markdown",
   "metadata": {},
   "source": [
    "#### Defined the hyper-parameters and instantiate the model"
   ]
  },
  {
   "cell_type": "code",
   "execution_count": 168,
   "metadata": {
    "scrolled": true
   },
   "outputs": [],
   "source": [
    "# Defined the hyper-parameters\n",
    "n_layers = 4\n",
    "n_hidden = 500\n",
    "dropout = 0.1\n",
    "\n",
    "# create model and move to gpu if available\n",
    "lstm = LSTM(n_features=x.shape[2], n_output=y.shape[1],\n",
    "            n_layers=n_layers, n_hidden=n_hidden, dropout=dropout)\n",
    "if train_on_gpu:\n",
    "    lstm.cuda()"
   ]
  },
  {
   "cell_type": "markdown",
   "metadata": {},
   "source": [
    "#### Train the model"
   ]
  },
  {
   "cell_type": "code",
   "execution_count": null,
   "metadata": {
    "scrolled": true
   },
   "outputs": [
    {
     "name": "stdout",
     "output_type": "stream",
     "text": [
      "Starting from saved model with validation loss of 0.096\n",
      "Training for 100 epoch(s)...\n",
      "Epoch:    1 Loss: 0.093, V-Loss: 0.101, V-Error 0.266\n",
      "Epoch:    2 Loss: 0.094, V-Loss: 0.098, V-Error 0.259\n",
      "Epoch:    3 Loss: 0.093, V-Loss: 0.102, V-Error 0.267\n",
      "Epoch:    4 Loss: 0.094, V-Loss: 0.097, V-Error 0.260\n",
      "Epoch:    5 Loss: 0.093, V-Loss: 0.098, V-Error 0.261\n",
      "Epoch:    6 Loss: 0.093, V-Loss: 0.101, V-Error 0.265\n",
      "Epoch:    7 Loss: 0.094, V-Loss: 0.100, V-Error 0.263\n",
      "Epoch:    8 Loss: 0.094, V-Loss: 0.100, V-Error 0.263\n",
      "Epoch:    9 Loss: 0.094, V-Loss: 0.097, V-Error 0.258\n",
      "Epoch:   10 Loss: 0.093, V-Loss: 0.099, V-Error 0.260\n",
      "Epoch:   11 Loss: 0.094, V-Loss: 0.097, V-Error 0.261\n",
      "Epoch:   12 Loss: 0.093, V-Loss: 0.097, V-Error 0.259\n",
      "Epoch:   13 Loss: 0.094, V-Loss: 0.099, V-Error 0.263\n",
      "Epoch:   14 Loss: 0.094, V-Loss: 0.098, V-Error 0.259\n",
      "Epoch:   15 Loss: 0.094, V-Loss: 0.099, V-Error 0.264\n",
      "Epoch:   16 Loss: 0.094, V-Loss: 0.098, V-Error 0.262\n",
      "Epoch:   17 Loss: 0.094, V-Loss: 0.101, V-Error 0.265\n",
      "Epoch:   18 Loss: 0.094, V-Loss: 0.096, V-Error 0.259\n",
      "Epoch:   19 Loss: 0.094, V-Loss: 0.099, V-Error 0.263\n",
      "Epoch:   20 Loss: 0.094, V-Loss: 0.100, V-Error 0.264\n",
      "Epoch:   21 Loss: 0.093, V-Loss: 0.100, V-Error 0.264\n",
      "Epoch:   22 Loss: 0.093, V-Loss: 0.102, V-Error 0.264\n",
      "Epoch:   23 Loss: 0.094, V-Loss: 0.102, V-Error 0.267\n",
      "Epoch:   24 Loss: 0.094, V-Loss: 0.098, V-Error 0.263\n",
      "Epoch:   25 Loss: 0.094, V-Loss: 0.100, V-Error 0.264\n"
     ]
    }
   ],
   "source": [
    "n_epochs = 100\n",
    "learning_rate = 0.0001\n",
    "optimizer = torch.optim.Adam(lstm.parameters(), lr=learning_rate)\n",
    "criterion = nn.MSELoss()\n",
    "\n",
    "# Load a previously trained model\n",
    "min_v_loss = 1.0\n",
    "model_name = 'na'\n",
    "for name in glob('lstm_vloss_*.pth'):\n",
    "    try:\n",
    "        v_loss = float(name[11:-4])\n",
    "    except:\n",
    "        pass\n",
    "    else:\n",
    "        if v_loss < min_v_loss:\n",
    "            min_v_loss = v_loss\n",
    "            model_name = name\n",
    "if model_name != 'na':\n",
    "    try:\n",
    "        saved_lstm = LSTM(n_features=x.shape[2], n_output=y.shape[1],\n",
    "                          n_layers=n_layers, n_hidden=n_hidden, dropout=dropout)\n",
    "        saved_lstm.load_state_dict(torch.load(model_name))\n",
    "    except:\n",
    "        min_v_loss = 1.0\n",
    "    else:\n",
    "        lstm = saved_lstm\n",
    "        print('Starting from saved model with validation loss of {:.3f}'.format(min_v_loss))\n",
    "    \n",
    "# Restart the training\n",
    "lstm = train_lstm(lstm, batch_size, optimizer, criterion, n_epochs, min_v_loss)"
   ]
  },
  {
   "cell_type": "markdown",
   "metadata": {},
   "source": [
    "#### Check against test data"
   ]
  },
  {
   "cell_type": "raw",
   "metadata": {},
   "source": [
    "saved_lstm = LSTM(n_features=x.shape[2], n_output=y.shape[1],\n",
    "                  n_layers=n_layers, n_hidden=n_hidden, dropout=dropout)\n",
    "saved_lstm.load_state_dict(torch.load('lstm_vloss_0.096.pth'))\n",
    "lstm = saved_lstm"
   ]
  },
  {
   "cell_type": "code",
   "execution_count": 171,
   "metadata": {},
   "outputs": [
    {
     "name": "stdout",
     "output_type": "stream",
     "text": [
      "Testing error total is 0.360.\n",
      "Testing error 1 dt is 0.342.\n",
      "Testing error 5 dt is 0.372.\n",
      "Testing error 21 dt is 0.366.\n",
      "tensor([[0.4065, 0.3342, 0.4869],\n",
      "        [0.4359, 0.3250, 0.7324],\n",
      "        [0.6012, 0.6319, 0.5881],\n",
      "        [0.5149, 0.5358, 0.4996],\n",
      "        [0.5163, 0.5151, 0.4022]], grad_fn=<SliceBackward>)\n",
      "tensor([[0.5000, 1.0000, 0.0000],\n",
      "        [1.0000, 0.5000, 0.7500],\n",
      "        [1.0000, 0.0000, 0.0000],\n",
      "        [1.0000, 1.0000, 1.0000],\n",
      "        [0.5000, 0.7500, 0.5000]])\n"
     ]
    }
   ],
   "source": [
    "test_x, test_y = iter(test_loader).next()\n",
    "lstm.eval()\n",
    "output, _ = lstm(test_x, lstm.init_hidden(batch_size))\n",
    "print('Testing error total is {:.3f}.'.format(torch.abs(test_y - output).mean()))\n",
    "for i, dt in enumerate(dt_values):\n",
    "    print('Testing error {} dt is {:.3f}.'.format(dt, torch.abs(test_y[:, i] - output[:, i]).mean()))\n",
    "print(output[:5, :])\n",
    "print(test_y[:5, :])\n"
   ]
  },
  {
   "cell_type": "code",
   "execution_count": null,
   "metadata": {},
   "outputs": [],
   "source": []
  }
 ],
 "metadata": {
  "kernelspec": {
   "display_name": "conda_pytorch_p36",
   "language": "python",
   "name": "conda_pytorch_p36"
  },
  "language_info": {
   "codemirror_mode": {
    "name": "ipython",
    "version": 3
   },
   "file_extension": ".py",
   "mimetype": "text/x-python",
   "name": "python",
   "nbconvert_exporter": "python",
   "pygments_lexer": "ipython3",
   "version": "3.6.5"
  }
 },
 "nbformat": 4,
 "nbformat_minor": 1
}
