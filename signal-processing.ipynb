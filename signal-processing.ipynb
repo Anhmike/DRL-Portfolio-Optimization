{
 "cells": [
  {
   "cell_type": "markdown",
   "metadata": {},
   "source": [
    "# Signal Processing (LSTM Training)\n",
    "\n",
    "Now that we have the data processed properly the challenge will be to design, train and test the Long Short-Term Memory (LSTM) network to predict the classifications we have previously extracted.\n",
    "\n",
    "For reference here is the image again of the full Deep Deterministic Policy Gradient (DDPG) Reinforcement Learning (RL) architecture we are trying to build.  Please see the full [2nd report](docs/report2.pdf) for a complete description of this network.\n",
    "\n",
    "![DDPG](docs/ddpg.png \"DDGP\")\n",
    "\n",
    "As you can see there is a LSTM in both the actor and critic networks.  Before the full DDPG can be implemented we must confirm that the LSTM can provide satisfactory signals or the DDPG will just be running on noise."
   ]
  },
  {
   "cell_type": "markdown",
   "metadata": {},
   "source": [
    "## 1. Load some necessary modules"
   ]
  },
  {
   "cell_type": "code",
   "execution_count": 95,
   "metadata": {},
   "outputs": [],
   "source": [
    "from glob import glob\n",
    "import matplotlib.pyplot as plt\n",
    "import numpy as np\n",
    "import pandas as pd\n",
    "import pickle\n",
    "import seaborn as sns\n",
    "from sklearn.model_selection import train_test_split\n",
    "import torch\n",
    "from torch.utils.data import TensorDataset, DataLoader\n",
    "import yaml\n",
    "\n",
    "%matplotlib inline"
   ]
  },
  {
   "cell_type": "markdown",
   "metadata": {},
   "source": [
    "## 1. Load and encode the timeseries data \n",
    "Each data _point_ at time `t` is actually a series of `k` standardized return values from `t-k` to `t` (`x`) and an array of classifications for each `dt` in `prediction_days` (`y`).  Therefore each data point is treated as independent events and will be processed in a random order.  So our first task is to properly structure the timeseries data into indepentent events.\n",
    "\n",
    "Here is an illustration of this transformation for a single asset with two different number of time values.\n",
    "\n",
    "![embedding](docs/embedding.png \"embedding\")"
   ]
  },
  {
   "cell_type": "markdown",
   "metadata": {},
   "source": [
    "Load the previously saved data and unpack it into Numpy arrays."
   ]
  },
  {
   "cell_type": "code",
   "execution_count": 80,
   "metadata": {},
   "outputs": [],
   "source": [
    "with open('training-data-raw.pkl', 'rb') as f:\n",
    "    data = pickle.load(f)\n",
    "x_raw = data['x'].values\n",
    "names = data['x'].columns.tolist()\n",
    "dates = data['x'].index.tolist()\n",
    "dt_values = list(data['y'].keys())\n",
    "\n",
    "y_raw = np.empty((len(dates), len(names), len(dt_values)))\n",
    "for i, dt in enumerate(dt_values):\n",
    "    y_raw[:, :, i] = data['y'][dt].values"
   ]
  },
  {
   "cell_type": "markdown",
   "metadata": {},
   "source": [
    "Load the settings file as well"
   ]
  },
  {
   "cell_type": "code",
   "execution_count": 81,
   "metadata": {},
   "outputs": [],
   "source": [
    "with open('settings.yml') as f:\n",
    "    settings = yaml.safe_load(f)"
   ]
  },
  {
   "cell_type": "markdown",
   "metadata": {},
   "source": [
    "### 1.1 Process the input data `x`\n",
    "Both `x` and `y` are transformed into 3D matrices as shown below.  Note that the 1st 2 dimensions are the same but the 3rd dimension is different.\n",
    "![shape](docs/data-shape.png \"shape\")"
   ]
  },
  {
   "cell_type": "code",
   "execution_count": 82,
   "metadata": {},
   "outputs": [],
   "source": [
    "k = settings['embedding_days']\n",
    "n = x_raw.shape[0] - 1\n",
    "x = np.empty((n - k + 2, len(names), k))\n",
    "for k_i in range(k):\n",
    "    x[:, :, k_i] = x_raw[(k - k_i - 1):(n + 1 - k_i), :]"
   ]
  },
  {
   "cell_type": "markdown",
   "metadata": {},
   "source": [
    "Quick sanity check on the data.  Should be all 0.0's; ie. max(abs(delta)) = 0.0.\n",
    "Note how the embedded values are in reverse order (latest first) of the raw data (oldest first)."
   ]
  },
  {
   "cell_type": "code",
   "execution_count": 83,
   "metadata": {},
   "outputs": [
    {
     "data": {
      "text/plain": [
       "0.0"
      ]
     },
     "execution_count": 83,
     "metadata": {},
     "output_type": "execute_result"
    }
   ],
   "source": [
    "max_delta = 0.0\n",
    "for t in range(x.shape[0]):\n",
    "    max_delta = max(max_delta, np.abs(x_raw[t:(t+k), :] - x[t, :, ::-1].T).max())\n",
    "max_delta"
   ]
  },
  {
   "cell_type": "markdown",
   "metadata": {},
   "source": [
    "### 1.2 Process the target values `y`"
   ]
  },
  {
   "cell_type": "code",
   "execution_count": 84,
   "metadata": {},
   "outputs": [
    {
     "name": "stdout",
     "output_type": "stream",
     "text": [
      "2928 total time points.\n",
      "70 assets.\n",
      "63 time embedding length (k).\n",
      "3 prediction horizons (n_dt).\n"
     ]
    }
   ],
   "source": [
    "y = y_raw[(k - 1):, :, :]\n",
    "n_dt = y.shape[2]\n",
    "for d in [0, 1]:\n",
    "    if x.shape[d] != x.shape[d]:\n",
    "        print(\"ERROR: dimension {} doesn't match\".format(d + 1))\n",
    "print(\"{} total time points.\".format(x.shape[0]))\n",
    "print(\"{} assets.\".format(x.shape[1]))\n",
    "print(\"{} time embedding length (k).\".format(x.shape[2]))\n",
    "print(\"{} prediction horizons (n_dt).\".format(n_dt))"
   ]
  },
  {
   "cell_type": "markdown",
   "metadata": {},
   "source": [
    "## 2. Split data into training, validation and testing sets\n",
    "The `test` set is not used during the training and is only used at the very end to evaluate how well the LSTM can predict unseen data.  For our purposes we defined the `test` set as data from the period from the `training_end` date defined in the settings file to the end of our processed data.\n",
    "\n",
    "The `train` set is the data actually used to traing the LSTM where as the `val` set isn't directly used to traing the LSTM but is used to evaluate the training process after each training epoch.  After each epoch we evaluate the model against the `train` and `val` set.  We will continue to train as long as both the `train` and `val` errors decay, but we must stop if the `val` error begins to rise.  A falling `train` error but rising `val` error indicates the model is starting to overfit the training data.  A good description of overfitting is contained in this [wiki page](https://en.wikipedia.org/wiki/Overfitting).\n",
    "\n",
    "We will follow the stardard practice of splitting our non-test data 9-1 between the `train` and `val` sets.  Note also that we are randomizing the data within the `train` and `val` sets to emilinate any temporal biases."
   ]
  },
  {
   "cell_type": "markdown",
   "metadata": {},
   "source": [
    "### Swap X axes \n",
    "The input to the LSTM network must have dimensions [batch_size, sequence_length (k), n_features].  Therefore we must swap the 2nd and 3rd axes befoew we can do the split."
   ]
  },
  {
   "cell_type": "code",
   "execution_count": 85,
   "metadata": {},
   "outputs": [
    {
     "name": "stdout",
     "output_type": "stream",
     "text": [
      "(2928, 70, 63)\n",
      "(2928, 63, 70)\n"
     ]
    }
   ],
   "source": [
    "print(x.shape)\n",
    "x = np.swapaxes(x, 1, 2)\n",
    "print(x.shape)"
   ]
  },
  {
   "cell_type": "markdown",
   "metadata": {},
   "source": [
    "### Perform the split"
   ]
  },
  {
   "cell_type": "code",
   "execution_count": 86,
   "metadata": {},
   "outputs": [],
   "source": [
    "n_test_days = data['x'].loc[settings['training_end']:, :].shape[0]\n",
    "    \n",
    "# Test data is simply all the data after the 'training_end' date.\n",
    "x_test = x[-n_test_days:, :, :]\n",
    "y_test = y[-n_test_days:, :, :]\n",
    "\n",
    "# Extract the train and val data and then randomly split 9/1\n",
    "x_train, x_val, y_train, y_val = train_test_split(x[:-n_test_days, :, :], \n",
    "                                                  y[:-n_test_days, :, :], \n",
    "                                                  test_size=0.1)"
   ]
  },
  {
   "cell_type": "markdown",
   "metadata": {},
   "source": [
    "Data is now ready, let the real fun begin...."
   ]
  },
  {
   "cell_type": "markdown",
   "metadata": {},
   "source": [
    "## 3. Define the LSTM network\n",
    "Please see the PyTorch LSTM [documentation](https://pytorch.org/docs/stable/nn.html#lstm) for more detail.    \n",
    "\n",
    "A special thanks for this component goes to the Udacity Deep Learning [Nanodegree](https://www.udacity.com/course/deep-learning-nanodegree--nd101).  Much of this content was derived from the Nanodegree projects."
   ]
  },
  {
   "cell_type": "markdown",
   "metadata": {},
   "source": [
    "### 3.1 Check to see if running on a GPU"
   ]
  },
  {
   "cell_type": "code",
   "execution_count": 87,
   "metadata": {},
   "outputs": [
    {
     "name": "stdout",
     "output_type": "stream",
     "text": [
      "No GPU available, training on CPU; ouch, consider making n_epochs very small.\n"
     ]
    }
   ],
   "source": [
    "train_on_gpu = torch.cuda.is_available()\n",
    "device = torch.device(\"cuda\" if train_on_gpu else \"cpu\")\n",
    "if(train_on_gpu):\n",
    "    print('Training on GPU!')\n",
    "else: \n",
    "    print('No GPU available, training on CPU; ouch, consider making n_epochs very small.')"
   ]
  },
  {
   "cell_type": "markdown",
   "metadata": {},
   "source": [
    "### 3.2 Define the LSTM network"
   ]
  },
  {
   "cell_type": "code",
   "execution_count": 88,
   "metadata": {},
   "outputs": [],
   "source": [
    "import torch.nn as nn\n",
    "\n",
    "class LSTM(nn.Module):\n",
    "    \n",
    "    def __init__(self, n_features, n_output, k, n_layers=1, n_hidden=500, dropout=0.2):\n",
    "        \"\"\"\n",
    "        Initialize the PyTorch LSTM Module plus a linear layer to perform the regression classification.\n",
    "        \n",
    "        Args:\n",
    "            n_features (int): The number of input dimensions (1 if only 1 asset modeled in isolation)\n",
    "            n_output (int): The number assets * number prediction horizons\n",
    "            k (int): The time embedding \n",
    "            n_layers (int): Number of LSTM layers\n",
    "            n_hidden (int): Number of hidden nodes in the LSTM layers\n",
    "            dropout (float): dropout to add in between LSTM/GRU layers\n",
    "        \"\"\"\n",
    "        \n",
    "        super(LSTM, self).__init__()\n",
    "        \n",
    "        # Set class attributes\n",
    "        self.n_features = n_features\n",
    "        self.n_dt = n_dt\n",
    "        self.n_layers = n_layers\n",
    "        self.n_hidden = n_hidden\n",
    "        self.output_size = n_output\n",
    "        \n",
    "        # Define the LSTM\n",
    "        self.lstm = nn.LSTM(input_size=n_features, hidden_size=n_hidden, num_layers=n_layers, \n",
    "                            batch_first=True, dropout=dropout)\n",
    "        \n",
    "        # Linear fully-connected feed forward network\n",
    "        self.fc = nn.Linear(n_hidden, self.output_size)\n",
    "        \n",
    "        \n",
    "    def forward(self, x, hidden):\n",
    "        \"\"\"\n",
    "        Forward propagation of the neural network\n",
    "        \n",
    "        Args:\n",
    "            x (tensor): [batch_size, k, n_feature] The input to the neural network\n",
    "            hidden (tuple of tensor): The previous hidden state\n",
    "        \n",
    "        Returns:\n",
    "            tensor:  [self.output_size] Ouput of the network\n",
    "            tuple of tensor:  (h_n, c_n) The latest hidden state\n",
    "        \"\"\"\n",
    "\n",
    "        # Read the batch size\n",
    "        batch_size = x.size(0)\n",
    "\n",
    "        # Get LSTM outpout and updated hidden state\n",
    "        out, hidden = self.lstm(x, hidden)\n",
    "    \n",
    "        # Stack up lstm outputs\n",
    "        out = out.contiguous().view(-1, self.n_hidden)\n",
    "\n",
    "        # Feed through fully-connected layer\n",
    "        out = self.fc(out)\n",
    "        \n",
    "        # Reshape to be batch_size first\n",
    "        out = out.view(batch_size, -1, self.output_size)\n",
    "        out = out[:, -1] # get last batch of labels\n",
    "\n",
    "        # return last sigmoid output and hidden state\n",
    "        return out, hidden\n",
    "    \n",
    "    \n",
    "    def init_hidden(self, batch_size):\n",
    "        '''\n",
    "        Initialize the hidden state of an LSTM/GRU\n",
    "        \n",
    "        Args:\n",
    "            batch_size: The batch_size of the hidden state\n",
    "        \n",
    "        Returns:\n",
    "            tuple of int:  hidden state of dims (n_layers, batch_size, n_hidden)\n",
    "        '''\n",
    "        # Initialize hidden state with zero weights, and move to GPU if available\n",
    "        \n",
    "        weight = next(self.parameters()).data\n",
    "        \n",
    "        if (train_on_gpu):\n",
    "            hidden = (weight.new(self.n_layers, batch_size, self.n_hidden).zero_().float().cuda(),\n",
    "                      weight.new(self.n_layers, batch_size, self.n_hidden).zero_().float().cuda())\n",
    "        else:\n",
    "            hidden = (weight.new(self.n_layers, batch_size, self.n_hidden).zero_().float(),\n",
    "                      weight.new(self.n_layers, batch_size, self.n_hidden).zero_().float())\n",
    "        \n",
    "        return hidden"
   ]
  },
  {
   "cell_type": "markdown",
   "metadata": {},
   "source": [
    "### 3.3 Define the forward and backpropagation steps"
   ]
  },
  {
   "cell_type": "code",
   "execution_count": 89,
   "metadata": {},
   "outputs": [],
   "source": [
    "def forward_back_prop(lstm, optimizer, criterion, inp, target, hidden, clip=5.0):\n",
    "    \"\"\"\n",
    "    Forward and backward propagation on the neural network\n",
    "    \n",
    "    Args:\n",
    "        lstm (LSTM): The LSTM object\n",
    "        optimizer: The PyTorch optimizer for the neural network\n",
    "        criterion: The PyTorch loss function\n",
    "        inp (tensor): [batch_size, k, n_feature] The input to the neural network\n",
    "        target (tensor): [batch_size, n_dt * n_output] The neural network output\n",
    "        hidden (tuple of tensor): The previous hidden state\n",
    "        clip (float):  Value to clip gradients to avoid exploding LSTM gradients\n",
    "    \n",
    "    Returns:\n",
    "        float: The loss for the last training batch item\n",
    "        tuple of tensor:  (h_n, c_n) The latest hidden state\n",
    "    \"\"\"\n",
    "    \n",
    "    if(train_on_gpu):\n",
    "        inp, target = inp.cuda(), target.cuda()\n",
    " \n",
    "    # Creating new variables for the hidden state, otherwise\n",
    "    # we'd backprop through the entire training history\n",
    "    hidden = tuple([each.data for each in hidden])\n",
    "    \n",
    "    # Zero accumulated gradients\n",
    "    lstm.zero_grad()\n",
    "    \n",
    "    # Perform forward propagations, loss calculation and back propagation\n",
    "    output, hidden = lstm(inp, hidden)\n",
    "    loss = criterion(output, target)\n",
    "    loss.backward()\n",
    "    \n",
    "    # Clip the gradients and then perform the weight optimization\n",
    "    nn.utils.clip_grad_norm_(lstm.parameters(), clip)\n",
    "    optimizer.step()\n",
    "\n",
    "    return loss.item(), hidden"
   ]
  },
  {
   "cell_type": "code",
   "execution_count": 90,
   "metadata": {},
   "outputs": [],
   "source": [
    "def train_lstm(lstm, batch_size, optimizer, criterion, n_epochs, min_v_loss=1.0):\n",
    "   \n",
    "    print(\"Training for %d epoch(s)...\" % n_epochs)\n",
    "    message = 'Epoch: {:>4} Loss: {:.3f}, V-Loss: {:.3f}, V-Error {:.3f}'\n",
    "    for epoch_i in range(1, n_epochs + 1):\n",
    "        lstm.train()\n",
    "        batch_losses = []\n",
    "\n",
    "        # initialize hidden state\n",
    "        hidden = lstm.init_hidden(batch_size)\n",
    "        \n",
    "        for batch_i, (inputs, labels) in enumerate(train_loader, 1):\n",
    "            \n",
    "            # make sure you iterate over completely full batches, only\n",
    "            n_batches = len(train_loader.dataset)//batch_size\n",
    "            if(batch_i > n_batches):\n",
    "                break\n",
    "            \n",
    "            # forward, back prop\n",
    "            loss, hidden = forward_back_prop(lstm, optimizer, criterion, inputs, labels, hidden)          \n",
    "            # record loss\n",
    "            batch_losses.append(loss)\n",
    "\n",
    "        # printing loss and validation stats\n",
    "        lstm.eval()\n",
    "        val_losses = []\n",
    "        val_errors = []\n",
    "        for batch_i, (inputs, labels) in enumerate(val_loader, 1):\n",
    "            # make sure you iterate over completely full batches, only\n",
    "            n_batches = len(val_loader.dataset)//batch_size\n",
    "            if(batch_i > n_batches):\n",
    "                break\n",
    "\n",
    "            output, hidden = lstm(inputs, hidden)\n",
    "            val_losses.append(criterion(output, labels).item())\n",
    "            val_errors.append(torch.abs(labels - output).mean().item())\n",
    "            \n",
    "        v_loss = np.average(val_losses)\n",
    "        if v_loss < min_v_loss:\n",
    "            min_v_loss = v_loss\n",
    "            torch.save(lstm.state_dict(), 'lstm_vloss_{:.3f}.pth'.format(v_loss))\n",
    "        print(message.format(epoch_i, np.average(batch_losses), v_loss, np.average(val_errors)))\n",
    "\n",
    "    return lstm"
   ]
  },
  {
   "cell_type": "markdown",
   "metadata": {},
   "source": [
    "### Let's train two assets as a test of the system"
   ]
  },
  {
   "cell_type": "markdown",
   "metadata": {},
   "source": [
    "#### First reduce the data"
   ]
  },
  {
   "cell_type": "code",
   "execution_count": 91,
   "metadata": {},
   "outputs": [
    {
     "name": "stdout",
     "output_type": "stream",
     "text": [
      "Projected 1-Day outlook is Good.\n",
      "Projected 7-Day outlook is Neutral.\n"
     ]
    },
    {
     "data": {
      "image/png": "[encoded data removed]",
      "text/plain": [
       "<Figure size 432x288 with 1 Axes>"
      ]
     },
     "metadata": {
      "needs_background": "light"
     },
     "output_type": "display_data"
    }
   ],
   "source": [
    "n_assets = 2\n",
    "n_dt = 2\n",
    "batch_size = 200\n",
    "\n",
    "# Slice the assets from x and stack the dt and n_assets for y\n",
    "tmp_x = torch.from_numpy(x_train[:, :, :n_assets]).float().to(device)\n",
    "tmp_y = torch.from_numpy(y_train[:, :n_assets, :n_dt].reshape(-1, n_dt*n_assets)).float().to(device)\n",
    "train_loader = DataLoader(TensorDataset(tmp_x, tmp_y), shuffle=True, batch_size=batch_size)\n",
    "\n",
    "# Do the same for the verification and test sets\n",
    "tmp_x = torch.from_numpy(x_val[:, :, :n_assets]).float().to(device)\n",
    "tmp_y = torch.from_numpy(y_val[:, :n_assets, :n_dt].reshape(-1, n_dt*n_assets)).float().to(device)\n",
    "val_loader = DataLoader(TensorDataset(tmp_x, tmp_y), shuffle=True, batch_size=batch_size)\n",
    "\n",
    "tmp_x = torch.from_numpy(x_test[:, :, :n_assets]).float().to(device)\n",
    "tmp_y = torch.from_numpy(y_test[:, :n_assets, :n_dt].reshape(-1, n_dt*n_assets)).float().to(device)\n",
    "test_loader = DataLoader(TensorDataset(tmp_x, tmp_y), shuffle=True, batch_size=batch_size)\n",
    "del tmp_x, tmp_y\n",
    "\n",
    "# Print a batch to test\n",
    "data_iter = iter(train_loader)\n",
    "sample_x, sample_y = data_iter.next()\n",
    "decoder = {0.0: 'Very bad', 0.25: 'Bad', 0.5: 'Neutral', 0.75: 'Good', 1.0: 'Very good'}\n",
    "print(\"Projected 1-Day outlook is {}.\".format(decoder[sample_y[0, 0].item()]))\n",
    "print(\"Projected 7-Day outlook is {}.\".format(decoder[sample_y[0, 1].item()]))\n",
    "plt.plot(sample_x[0, :, 0])\n",
    "plt.show()\n"
   ]
  },
  {
   "cell_type": "markdown",
   "metadata": {},
   "source": [
    "#### Defined the hyper-parameters and instantiate the model"
   ]
  },
  {
   "cell_type": "code",
   "execution_count": 92,
   "metadata": {
    "scrolled": true
   },
   "outputs": [],
   "source": [
    "# Defined the hyper-parameters\n",
    "n_layers = 4\n",
    "n_hidden = 500\n",
    "dropout = 0.1\n",
    "\n",
    "# create model and move to gpu if available\n",
    "lstm = LSTM(n_assets, n_assets*n_dt, k, n_layers, n_hidden, dropout)\n",
    "if train_on_gpu:\n",
    "    lstm.cuda()"
   ]
  },
  {
   "cell_type": "markdown",
   "metadata": {},
   "source": [
    "#### Train the model"
   ]
  },
  {
   "cell_type": "code",
   "execution_count": null,
   "metadata": {
    "scrolled": true
   },
   "outputs": [
    {
     "name": "stdout",
     "output_type": "stream",
     "text": [
      "Starting from saved model with validation loss of 0.088\n",
      "Training for 100 epoch(s)...\n",
      "Epoch:    1 Loss: 0.094, V-Loss: 0.090, V-Error 0.253\n"
     ]
    }
   ],
   "source": [
    "n_epochs = 100\n",
    "learning_rate = 0.0001\n",
    "optimizer = torch.optim.Adam(lstm.parameters(), lr=learning_rate)\n",
    "criterion = nn.MSELoss()\n",
    "\n",
    "# Load a previously trained model\n",
    "min_v_loss = 1.0\n",
    "model_name = 'na'\n",
    "for name in glob('lstm_vloss_*.pth'):\n",
    "    try:\n",
    "        v_loss = float(name[11:-4])\n",
    "    except:\n",
    "        pass\n",
    "    else:\n",
    "        if v_loss < min_v_loss:\n",
    "            min_v_loss = v_loss\n",
    "            model_name = name\n",
    "if model_name != 'na':\n",
    "    try:\n",
    "        saved_lstm = LSTM(n_assets, n_assets*n_dt, k, n_layers, n_hidden, dropout)\n",
    "        saved_lstm.load_state_dict(torch.load(model_name))\n",
    "    except:\n",
    "        min_v_loss = 1.0\n",
    "    else:\n",
    "        lstm = saved_lstm\n",
    "        print('Starting from saved model with validation loss of {:.3f}'.format(min_v_loss))\n",
    "    \n",
    "# Restart the training\n",
    "lstm = train_lstm(lstm, batch_size, optimizer, criterion, n_epochs, min_v_loss)"
   ]
  },
  {
   "cell_type": "markdown",
   "metadata": {},
   "source": [
    "#### Check against test data"
   ]
  },
  {
   "cell_type": "code",
   "execution_count": 94,
   "metadata": {},
   "outputs": [
    {
     "name": "stdout",
     "output_type": "stream",
     "text": [
      "Testing error is 0.224.\n",
      "tensor([[0.5545, 0.6056, 0.6176, 0.4179],\n",
      "        [0.5545, 0.6056, 0.6176, 0.4179],\n",
      "        [0.5545, 0.6056, 0.6176, 0.4179],\n",
      "        [0.5545, 0.6056, 0.6176, 0.4179],\n",
      "        [0.5545, 0.6056, 0.6176, 0.4179]], grad_fn=<SliceBackward>)\n"
     ]
    }
   ],
   "source": [
    "test_x, test_y = iter(test_loader).next()\n",
    "lstm.eval()\n",
    "output, _ = lstm(test_x, lstm.init_hidden(batch_size))\n",
    "print('Testing error is {:.3f}.'.format(torch.abs(test_y - output).mean()))\n",
    "print(output[:5, :])"
   ]
  },
  {
   "cell_type": "code",
   "execution_count": null,
   "metadata": {},
   "outputs": [],
   "source": []
  }
 ],
 "metadata": {
  "kernelspec": {
   "display_name": "conda_pytorch_p36",
   "language": "python",
   "name": "conda_pytorch_p36"
  },
  "language_info": {
   "codemirror_mode": {
    "name": "ipython",
    "version": 3
   },
   "file_extension": ".py",
   "mimetype": "text/x-python",
   "name": "python",
   "nbconvert_exporter": "python",
   "pygments_lexer": "ipython3",
   "version": "3.6.5"
  }
 },
 "nbformat": 4,
 "nbformat_minor": 1
}
