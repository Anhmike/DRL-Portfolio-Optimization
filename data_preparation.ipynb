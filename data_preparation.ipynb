{
 "cells": [
  {
   "cell_type": "markdown",
   "metadata": {},
   "source": [
    "# Data Preparation\n",
    "\n",
    "The first step in this project is actually getting the raw stock data from Alpha Vantage and processing into a form ready for training.\n",
    "\n",
    "Before starting this process you must get an API key from this [site](https://www.alphavantage.co/support/#api-key)."
   ]
  },
  {
   "cell_type": "markdown",
   "metadata": {},
   "source": [
    "## Load some necessary modules"
   ]
  },
  {
   "cell_type": "code",
   "execution_count": null,
   "metadata": {},
   "outputs": [],
   "source": [
    "# You only need to run this once on a SageMaker instance or on your PC  \n",
    "!pip install alpha_vantage"
   ]
  },
  {
   "cell_type": "code",
   "execution_count": 38,
   "metadata": {},
   "outputs": [],
   "source": [
    "import matplotlib.pyplot as plt\n",
    "import numpy as np\n",
    "import os\n",
    "import pandas as pd\n",
    "from pandas_datareader import data\n",
    "import time\n",
    "import yaml\n",
    "\n",
    "from alpha_vantage.timeseries import TimeSeries\n",
    "\n",
    "%matplotlib inline"
   ]
  },
  {
   "cell_type": "markdown",
   "metadata": {},
   "source": [
    "## Read the user defined settings"
   ]
  },
  {
   "cell_type": "code",
   "execution_count": 43,
   "metadata": {},
   "outputs": [],
   "source": [
    "with open('settings.yml') as f:\n",
    "    settings = yaml.safe_load(f)"
   ]
  },
  {
   "cell_type": "markdown",
   "metadata": {},
   "source": [
    "## Download the stock history\n",
    "Note you have to manually enter your Alpha Vantage API key in the following cell.  It is unique to each user and is limited to 5 API requests per minute and 500 requests per day, so please don't use someone else's key."
   ]
  },
  {
   "cell_type": "code",
   "execution_count": 44,
   "metadata": {},
   "outputs": [
    {
     "name": "stdout",
     "output_type": "stream",
     "text": [
      "Reading BCE from API.\n",
      "Reading RCI from saved data.\n",
      "Reading SJR from saved data.\n"
     ]
    }
   ],
   "source": [
    "# Set your API key\n",
    "api_key = 'AIM9J0PA8YV2A12F'\n",
    "\n",
    "# Format connection\n",
    "ts = TimeSeries(key=api_key, output_format='pandas')\n",
    "\n",
    "# Read saved data if it exists\n",
    "if os.path.isfile('stock-data.pkl'):\n",
    "    saved_stocks = pd.read_pickle('stock-data.pkl')\n",
    "    saved_stock_names = saved_stocks.columns.to_list()\n",
    "else:\n",
    "    saved_stock_names = []\n",
    "    \n",
    "# To avoid hitting the 5 requests per minute, we add delay\n",
    "t0 = time.time()\n",
    "stocks = []\n",
    "for ticker in settings['tickers']:\n",
    "    if ticker in saved_stock_names:\n",
    "        print(\"Reading {} from saved data.\".format(ticker))\n",
    "        stocks.append(saved_stocks.loc[:, [ticker]])\n",
    "    else:\n",
    "        print(\"Reading {} from API.\".format(ticker))\n",
    "        data, _ = ts.get_daily_adjusted(symbol=ticker, outputsize='full')\n",
    "        data = data.rename(columns={'5. adjusted close': ticker})\n",
    "        stocks.append(data.loc[settings['data_end']:settings['data_start'], [ticker]])\n",
    "del data\n",
    "stocks = pd.concat(stocks, axis=1)\n",
    "stocks.to_pickle('stock-data.pkl')"
   ]
  },
  {
   "cell_type": "code",
   "execution_count": 45,
   "metadata": {},
   "outputs": [
    {
     "data": {
      "text/html": [
       "<div>\n",
       "<style scoped>\n",
       "    .dataframe tbody tr th:only-of-type {\n",
       "        vertical-align: middle;\n",
       "    }\n",
       "\n",
       "    .dataframe tbody tr th {\n",
       "        vertical-align: top;\n",
       "    }\n",
       "\n",
       "    .dataframe thead th {\n",
       "        text-align: right;\n",
       "    }\n",
       "</style>\n",
       "<table border=\"1\" class=\"dataframe\">\n",
       "  <thead>\n",
       "    <tr style=\"text-align: right;\">\n",
       "      <th></th>\n",
       "      <th>BCE</th>\n",
       "      <th>RCI</th>\n",
       "      <th>SJR</th>\n",
       "    </tr>\n",
       "    <tr>\n",
       "      <th>date</th>\n",
       "      <th></th>\n",
       "      <th></th>\n",
       "      <th></th>\n",
       "    </tr>\n",
       "  </thead>\n",
       "  <tbody>\n",
       "    <tr>\n",
       "      <th>2019-12-16</th>\n",
       "      <td>47.9000</td>\n",
       "      <td>48.73</td>\n",
       "      <td>20.1825</td>\n",
       "    </tr>\n",
       "    <tr>\n",
       "      <th>2019-12-13</th>\n",
       "      <td>47.5000</td>\n",
       "      <td>48.44</td>\n",
       "      <td>20.1127</td>\n",
       "    </tr>\n",
       "    <tr>\n",
       "      <th>2019-12-12</th>\n",
       "      <td>48.1606</td>\n",
       "      <td>48.00</td>\n",
       "      <td>20.1625</td>\n",
       "    </tr>\n",
       "    <tr>\n",
       "      <th>2019-12-11</th>\n",
       "      <td>48.3878</td>\n",
       "      <td>47.87</td>\n",
       "      <td>20.2072</td>\n",
       "    </tr>\n",
       "  </tbody>\n",
       "</table>\n",
       "</div>"
      ],
      "text/plain": [
       "                BCE    RCI      SJR\n",
       "date                               \n",
       "2019-12-16  47.9000  48.73  20.1825\n",
       "2019-12-13  47.5000  48.44  20.1127\n",
       "2019-12-12  48.1606  48.00  20.1625\n",
       "2019-12-11  48.3878  47.87  20.2072"
      ]
     },
     "execution_count": 45,
     "metadata": {},
     "output_type": "execute_result"
    }
   ],
   "source": [
    "stocks['2019-12-16':'2019-12-11']"
   ]
  },
  {
   "cell_type": "code",
   "execution_count": null,
   "metadata": {},
   "outputs": [],
   "source": []
  }
 ],
 "metadata": {
  "kernelspec": {
   "display_name": "conda_pytorch_p36",
   "language": "python",
   "name": "conda_pytorch_p36"
  },
  "language_info": {
   "codemirror_mode": {
    "name": "ipython",
    "version": 3
   },
   "file_extension": ".py",
   "mimetype": "text/x-python",
   "name": "python",
   "nbconvert_exporter": "python",
   "pygments_lexer": "ipython3",
   "version": "3.6.5"
  }
 },
 "nbformat": 4,
 "nbformat_minor": 1
}
